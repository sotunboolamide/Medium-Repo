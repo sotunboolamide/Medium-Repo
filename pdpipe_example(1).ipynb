{
  "nbformat": 4,
  "nbformat_minor": 0,
  "metadata": {
    "kernelspec": {
      "display_name": "Python 3",
      "language": "python",
      "name": "python3"
    },
    "language_info": {
      "codemirror_mode": {
        "name": "ipython",
        "version": 3
      },
      "file_extension": ".py",
      "mimetype": "text/x-python",
      "name": "python",
      "nbconvert_exporter": "python",
      "pygments_lexer": "ipython3",
      "version": "3.6.9"
    },
    "colab": {
      "name": "pdpipe-example.ipynb",
      "provenance": [],
      "collapsed_sections": []
    }
  },
  "cells": [
    {
      "cell_type": "markdown",
      "metadata": {
        "id": "0YZ6dPfFLi04",
        "colab_type": "text"
      },
      "source": [
        "# Sample pipelining with Pandas using `pdpipe`\n",
        "#### David Sotunbo, Data Scientist"
      ]
    },
    {
      "cell_type": "code",
      "metadata": {
        "id": "RYWgIKZ7Li1T",
        "colab_type": "code",
        "outputId": "297d3e25-76c8-4933-afc5-191945fcf613",
        "colab": {
          "base_uri": "https://localhost:8080/",
          "height": 208
        }
      },
      "source": [
        "!pip install pdpipe\n",
        "import pandas as pd\n",
        "import numpy as np\n",
        "import pdpipe as pdp"
      ],
      "execution_count": 0,
      "outputs": [
        {
          "output_type": "stream",
          "text": [
            "Requirement already satisfied: pdpipe in /usr/local/lib/python3.6/dist-packages (0.0.33)\n",
            "Requirement already satisfied: pandas>=0.18.0 in /usr/local/lib/python3.6/dist-packages (from pdpipe) (0.25.3)\n",
            "Requirement already satisfied: tqdm in /usr/local/lib/python3.6/dist-packages (from pdpipe) (4.28.1)\n",
            "Requirement already satisfied: skutil>=0.0.15 in /usr/local/lib/python3.6/dist-packages (from pdpipe) (0.0.16)\n",
            "Requirement already satisfied: sortedcontainers in /usr/local/lib/python3.6/dist-packages (from pdpipe) (2.1.0)\n",
            "Requirement already satisfied: strct in /usr/local/lib/python3.6/dist-packages (from pdpipe) (0.0.30)\n",
            "Requirement already satisfied: numpy>=1.13.3 in /usr/local/lib/python3.6/dist-packages (from pandas>=0.18.0->pdpipe) (1.17.4)\n",
            "Requirement already satisfied: python-dateutil>=2.6.1 in /usr/local/lib/python3.6/dist-packages (from pandas>=0.18.0->pdpipe) (2.6.1)\n",
            "Requirement already satisfied: pytz>=2017.2 in /usr/local/lib/python3.6/dist-packages (from pandas>=0.18.0->pdpipe) (2018.9)\n",
            "Requirement already satisfied: decore in /usr/local/lib/python3.6/dist-packages (from skutil>=0.0.15->pdpipe) (0.0.1)\n",
            "Requirement already satisfied: six>=1.5 in /usr/local/lib/python3.6/dist-packages (from python-dateutil>=2.6.1->pandas>=0.18.0->pdpipe) (1.12.0)\n"
          ],
          "name": "stdout"
        }
      ]
    },
    {
      "cell_type": "code",
      "metadata": {
        "id": "04I3sfPfLi2b",
        "colab_type": "code",
        "colab": {}
      },
      "source": [
        "df = pd.read_csv(\"train.csv\")"
      ],
      "execution_count": 0,
      "outputs": []
    },
    {
      "cell_type": "code",
      "metadata": {
        "id": "0YGZTvf5Li3E",
        "colab_type": "code",
        "outputId": "22a8978a-837d-4bbe-8d54-892db47b33f6",
        "colab": {
          "base_uri": "https://localhost:8080/",
          "height": 206
        }
      },
      "source": [
        "round(df.sample(5),2)"
      ],
      "execution_count": 0,
      "outputs": [
        {
          "output_type": "execute_result",
          "data": {
            "text/html": [
              "<div>\n",
              "<style scoped>\n",
              "    .dataframe tbody tr th:only-of-type {\n",
              "        vertical-align: middle;\n",
              "    }\n",
              "\n",
              "    .dataframe tbody tr th {\n",
              "        vertical-align: top;\n",
              "    }\n",
              "\n",
              "    .dataframe thead th {\n",
              "        text-align: right;\n",
              "    }\n",
              "</style>\n",
              "<table border=\"1\" class=\"dataframe\">\n",
              "  <thead>\n",
              "    <tr style=\"text-align: right;\">\n",
              "      <th></th>\n",
              "      <th>PassengerId</th>\n",
              "      <th>Survived</th>\n",
              "      <th>Pclass</th>\n",
              "      <th>Name</th>\n",
              "      <th>Sex</th>\n",
              "      <th>Age</th>\n",
              "      <th>SibSp</th>\n",
              "      <th>Parch</th>\n",
              "      <th>Ticket</th>\n",
              "      <th>Fare</th>\n",
              "      <th>Cabin</th>\n",
              "      <th>Embarked</th>\n",
              "    </tr>\n",
              "  </thead>\n",
              "  <tbody>\n",
              "    <tr>\n",
              "      <th>522</th>\n",
              "      <td>523</td>\n",
              "      <td>0</td>\n",
              "      <td>3</td>\n",
              "      <td>Lahoud, Mr. Sarkis</td>\n",
              "      <td>male</td>\n",
              "      <td>NaN</td>\n",
              "      <td>0</td>\n",
              "      <td>0</td>\n",
              "      <td>2624</td>\n",
              "      <td>7.22</td>\n",
              "      <td>NaN</td>\n",
              "      <td>C</td>\n",
              "    </tr>\n",
              "    <tr>\n",
              "      <th>330</th>\n",
              "      <td>331</td>\n",
              "      <td>1</td>\n",
              "      <td>3</td>\n",
              "      <td>McCoy, Miss. Agnes</td>\n",
              "      <td>female</td>\n",
              "      <td>NaN</td>\n",
              "      <td>2</td>\n",
              "      <td>0</td>\n",
              "      <td>367226</td>\n",
              "      <td>23.25</td>\n",
              "      <td>NaN</td>\n",
              "      <td>Q</td>\n",
              "    </tr>\n",
              "    <tr>\n",
              "      <th>708</th>\n",
              "      <td>709</td>\n",
              "      <td>1</td>\n",
              "      <td>1</td>\n",
              "      <td>Cleaver, Miss. Alice</td>\n",
              "      <td>female</td>\n",
              "      <td>22.0</td>\n",
              "      <td>0</td>\n",
              "      <td>0</td>\n",
              "      <td>113781</td>\n",
              "      <td>151.55</td>\n",
              "      <td>NaN</td>\n",
              "      <td>S</td>\n",
              "    </tr>\n",
              "    <tr>\n",
              "      <th>38</th>\n",
              "      <td>39</td>\n",
              "      <td>0</td>\n",
              "      <td>3</td>\n",
              "      <td>Vander Planke, Miss. Augusta Maria</td>\n",
              "      <td>female</td>\n",
              "      <td>18.0</td>\n",
              "      <td>2</td>\n",
              "      <td>0</td>\n",
              "      <td>345764</td>\n",
              "      <td>18.00</td>\n",
              "      <td>NaN</td>\n",
              "      <td>S</td>\n",
              "    </tr>\n",
              "    <tr>\n",
              "      <th>192</th>\n",
              "      <td>193</td>\n",
              "      <td>1</td>\n",
              "      <td>3</td>\n",
              "      <td>Andersen-Jensen, Miss. Carla Christine Nielsine</td>\n",
              "      <td>female</td>\n",
              "      <td>19.0</td>\n",
              "      <td>1</td>\n",
              "      <td>0</td>\n",
              "      <td>350046</td>\n",
              "      <td>7.85</td>\n",
              "      <td>NaN</td>\n",
              "      <td>S</td>\n",
              "    </tr>\n",
              "  </tbody>\n",
              "</table>\n",
              "</div>"
            ],
            "text/plain": [
              "     PassengerId  Survived  Pclass  ...    Fare Cabin  Embarked\n",
              "522          523         0       3  ...    7.22   NaN         C\n",
              "330          331         1       3  ...   23.25   NaN         Q\n",
              "708          709         1       1  ...  151.55   NaN         S\n",
              "38            39         0       3  ...   18.00   NaN         S\n",
              "192          193         1       3  ...    7.85   NaN         S\n",
              "\n",
              "[5 rows x 12 columns]"
            ]
          },
          "metadata": {
            "tags": []
          },
          "execution_count": 36
        }
      ]
    },
    {
      "cell_type": "code",
      "metadata": {
        "id": "sflfQ7KQLi31",
        "colab_type": "code",
        "outputId": "ac5a0978-018c-40b5-b260-5ed0732ded4f",
        "colab": {
          "base_uri": "https://localhost:8080/",
          "height": 34
        }
      },
      "source": [
        "df.shape"
      ],
      "execution_count": 0,
      "outputs": [
        {
          "output_type": "execute_result",
          "data": {
            "text/plain": [
              "(891, 12)"
            ]
          },
          "metadata": {
            "tags": []
          },
          "execution_count": 37
        }
      ]
    },
    {
      "cell_type": "code",
      "metadata": {
        "id": "PAs50B70Li4k",
        "colab_type": "code",
        "outputId": "85321507-f387-44b7-f907-65169c12b235",
        "colab": {
          "base_uri": "https://localhost:8080/",
          "height": 69
        }
      },
      "source": [
        "df.columns"
      ],
      "execution_count": 0,
      "outputs": [
        {
          "output_type": "execute_result",
          "data": {
            "text/plain": [
              "Index(['PassengerId', 'Survived', 'Pclass', 'Name', 'Sex', 'Age', 'SibSp',\n",
              "       'Parch', 'Ticket', 'Fare', 'Cabin', 'Embarked'],\n",
              "      dtype='object')"
            ]
          },
          "metadata": {
            "tags": []
          },
          "execution_count": 38
        }
      ]
    },
    {
      "cell_type": "code",
      "metadata": {
        "id": "x_zRPgXgLi5G",
        "colab_type": "code",
        "outputId": "24a7e2d0-82b7-4111-c0e1-573d7c49f50a",
        "colab": {
          "base_uri": "https://localhost:8080/",
          "height": 269
        }
      },
      "source": [
        "round(df.describe().T,2)"
      ],
      "execution_count": 0,
      "outputs": [
        {
          "output_type": "execute_result",
          "data": {
            "text/html": [
              "<div>\n",
              "<style scoped>\n",
              "    .dataframe tbody tr th:only-of-type {\n",
              "        vertical-align: middle;\n",
              "    }\n",
              "\n",
              "    .dataframe tbody tr th {\n",
              "        vertical-align: top;\n",
              "    }\n",
              "\n",
              "    .dataframe thead th {\n",
              "        text-align: right;\n",
              "    }\n",
              "</style>\n",
              "<table border=\"1\" class=\"dataframe\">\n",
              "  <thead>\n",
              "    <tr style=\"text-align: right;\">\n",
              "      <th></th>\n",
              "      <th>count</th>\n",
              "      <th>mean</th>\n",
              "      <th>std</th>\n",
              "      <th>min</th>\n",
              "      <th>25%</th>\n",
              "      <th>50%</th>\n",
              "      <th>75%</th>\n",
              "      <th>max</th>\n",
              "    </tr>\n",
              "  </thead>\n",
              "  <tbody>\n",
              "    <tr>\n",
              "      <th>PassengerId</th>\n",
              "      <td>891.0</td>\n",
              "      <td>446.00</td>\n",
              "      <td>257.35</td>\n",
              "      <td>1.00</td>\n",
              "      <td>223.50</td>\n",
              "      <td>446.00</td>\n",
              "      <td>668.5</td>\n",
              "      <td>891.00</td>\n",
              "    </tr>\n",
              "    <tr>\n",
              "      <th>Survived</th>\n",
              "      <td>891.0</td>\n",
              "      <td>0.38</td>\n",
              "      <td>0.49</td>\n",
              "      <td>0.00</td>\n",
              "      <td>0.00</td>\n",
              "      <td>0.00</td>\n",
              "      <td>1.0</td>\n",
              "      <td>1.00</td>\n",
              "    </tr>\n",
              "    <tr>\n",
              "      <th>Pclass</th>\n",
              "      <td>891.0</td>\n",
              "      <td>2.31</td>\n",
              "      <td>0.84</td>\n",
              "      <td>1.00</td>\n",
              "      <td>2.00</td>\n",
              "      <td>3.00</td>\n",
              "      <td>3.0</td>\n",
              "      <td>3.00</td>\n",
              "    </tr>\n",
              "    <tr>\n",
              "      <th>Age</th>\n",
              "      <td>714.0</td>\n",
              "      <td>29.70</td>\n",
              "      <td>14.53</td>\n",
              "      <td>0.42</td>\n",
              "      <td>20.12</td>\n",
              "      <td>28.00</td>\n",
              "      <td>38.0</td>\n",
              "      <td>80.00</td>\n",
              "    </tr>\n",
              "    <tr>\n",
              "      <th>SibSp</th>\n",
              "      <td>891.0</td>\n",
              "      <td>0.52</td>\n",
              "      <td>1.10</td>\n",
              "      <td>0.00</td>\n",
              "      <td>0.00</td>\n",
              "      <td>0.00</td>\n",
              "      <td>1.0</td>\n",
              "      <td>8.00</td>\n",
              "    </tr>\n",
              "    <tr>\n",
              "      <th>Parch</th>\n",
              "      <td>891.0</td>\n",
              "      <td>0.38</td>\n",
              "      <td>0.81</td>\n",
              "      <td>0.00</td>\n",
              "      <td>0.00</td>\n",
              "      <td>0.00</td>\n",
              "      <td>0.0</td>\n",
              "      <td>6.00</td>\n",
              "    </tr>\n",
              "    <tr>\n",
              "      <th>Fare</th>\n",
              "      <td>891.0</td>\n",
              "      <td>32.20</td>\n",
              "      <td>49.69</td>\n",
              "      <td>0.00</td>\n",
              "      <td>7.91</td>\n",
              "      <td>14.45</td>\n",
              "      <td>31.0</td>\n",
              "      <td>512.33</td>\n",
              "    </tr>\n",
              "  </tbody>\n",
              "</table>\n",
              "</div>"
            ],
            "text/plain": [
              "             count    mean     std   min     25%     50%    75%     max\n",
              "PassengerId  891.0  446.00  257.35  1.00  223.50  446.00  668.5  891.00\n",
              "Survived     891.0    0.38    0.49  0.00    0.00    0.00    1.0    1.00\n",
              "Pclass       891.0    2.31    0.84  1.00    2.00    3.00    3.0    3.00\n",
              "Age          714.0   29.70   14.53  0.42   20.12   28.00   38.0   80.00\n",
              "SibSp        891.0    0.52    1.10  0.00    0.00    0.00    1.0    8.00\n",
              "Parch        891.0    0.38    0.81  0.00    0.00    0.00    0.0    6.00\n",
              "Fare         891.0   32.20   49.69  0.00    7.91   14.45   31.0  512.33"
            ]
          },
          "metadata": {
            "tags": []
          },
          "execution_count": 39
        }
      ]
    },
    {
      "cell_type": "code",
      "metadata": {
        "id": "5n_r3ZFuLi5h",
        "colab_type": "code",
        "colab": {}
      },
      "source": [
        "def size(n):\n",
        "    if n<=18:\n",
        "        return 'Child'\n",
        "    elif 18<n<=59:\n",
        "        return 'Adult'\n",
        "    else:\n",
        "        return 'Old'\n",
        "\n",
        "df['Age_bracket']=df['Age'].apply(size)"
      ],
      "execution_count": 0,
      "outputs": []
    },
    {
      "cell_type": "code",
      "metadata": {
        "id": "RrA4Hc_FLi6E",
        "colab_type": "code",
        "colab": {}
      },
      "source": [
        ""
      ],
      "execution_count": 0,
      "outputs": []
    },
    {
      "cell_type": "code",
      "metadata": {
        "id": "FC9cZqXtLi6g",
        "colab_type": "code",
        "outputId": "87cd1f7a-e554-46a4-9f3d-47c267c5e498",
        "colab": {
          "base_uri": "https://localhost:8080/",
          "height": 206
        }
      },
      "source": [
        "round(df.sample(5),2)"
      ],
      "execution_count": 0,
      "outputs": [
        {
          "output_type": "execute_result",
          "data": {
            "text/html": [
              "<div>\n",
              "<style scoped>\n",
              "    .dataframe tbody tr th:only-of-type {\n",
              "        vertical-align: middle;\n",
              "    }\n",
              "\n",
              "    .dataframe tbody tr th {\n",
              "        vertical-align: top;\n",
              "    }\n",
              "\n",
              "    .dataframe thead th {\n",
              "        text-align: right;\n",
              "    }\n",
              "</style>\n",
              "<table border=\"1\" class=\"dataframe\">\n",
              "  <thead>\n",
              "    <tr style=\"text-align: right;\">\n",
              "      <th></th>\n",
              "      <th>PassengerId</th>\n",
              "      <th>Survived</th>\n",
              "      <th>Pclass</th>\n",
              "      <th>Name</th>\n",
              "      <th>Sex</th>\n",
              "      <th>Age</th>\n",
              "      <th>SibSp</th>\n",
              "      <th>Parch</th>\n",
              "      <th>Ticket</th>\n",
              "      <th>Fare</th>\n",
              "      <th>Cabin</th>\n",
              "      <th>Embarked</th>\n",
              "      <th>Age_bracket</th>\n",
              "    </tr>\n",
              "  </thead>\n",
              "  <tbody>\n",
              "    <tr>\n",
              "      <th>480</th>\n",
              "      <td>481</td>\n",
              "      <td>0</td>\n",
              "      <td>3</td>\n",
              "      <td>Goodwin, Master. Harold Victor</td>\n",
              "      <td>male</td>\n",
              "      <td>9.0</td>\n",
              "      <td>5</td>\n",
              "      <td>2</td>\n",
              "      <td>CA 2144</td>\n",
              "      <td>46.90</td>\n",
              "      <td>NaN</td>\n",
              "      <td>S</td>\n",
              "      <td>Child</td>\n",
              "    </tr>\n",
              "    <tr>\n",
              "      <th>760</th>\n",
              "      <td>761</td>\n",
              "      <td>0</td>\n",
              "      <td>3</td>\n",
              "      <td>Garfirth, Mr. John</td>\n",
              "      <td>male</td>\n",
              "      <td>NaN</td>\n",
              "      <td>0</td>\n",
              "      <td>0</td>\n",
              "      <td>358585</td>\n",
              "      <td>14.50</td>\n",
              "      <td>NaN</td>\n",
              "      <td>S</td>\n",
              "      <td>Old</td>\n",
              "    </tr>\n",
              "    <tr>\n",
              "      <th>568</th>\n",
              "      <td>569</td>\n",
              "      <td>0</td>\n",
              "      <td>3</td>\n",
              "      <td>Doharr, Mr. Tannous</td>\n",
              "      <td>male</td>\n",
              "      <td>NaN</td>\n",
              "      <td>0</td>\n",
              "      <td>0</td>\n",
              "      <td>2686</td>\n",
              "      <td>7.23</td>\n",
              "      <td>NaN</td>\n",
              "      <td>C</td>\n",
              "      <td>Old</td>\n",
              "    </tr>\n",
              "    <tr>\n",
              "      <th>368</th>\n",
              "      <td>369</td>\n",
              "      <td>1</td>\n",
              "      <td>3</td>\n",
              "      <td>Jermyn, Miss. Annie</td>\n",
              "      <td>female</td>\n",
              "      <td>NaN</td>\n",
              "      <td>0</td>\n",
              "      <td>0</td>\n",
              "      <td>14313</td>\n",
              "      <td>7.75</td>\n",
              "      <td>NaN</td>\n",
              "      <td>Q</td>\n",
              "      <td>Old</td>\n",
              "    </tr>\n",
              "    <tr>\n",
              "      <th>234</th>\n",
              "      <td>235</td>\n",
              "      <td>0</td>\n",
              "      <td>2</td>\n",
              "      <td>Leyson, Mr. Robert William Norman</td>\n",
              "      <td>male</td>\n",
              "      <td>24.0</td>\n",
              "      <td>0</td>\n",
              "      <td>0</td>\n",
              "      <td>C.A. 29566</td>\n",
              "      <td>10.50</td>\n",
              "      <td>NaN</td>\n",
              "      <td>S</td>\n",
              "      <td>Adult</td>\n",
              "    </tr>\n",
              "  </tbody>\n",
              "</table>\n",
              "</div>"
            ],
            "text/plain": [
              "     PassengerId  Survived  Pclass  ... Cabin Embarked  Age_bracket\n",
              "480          481         0       3  ...   NaN        S        Child\n",
              "760          761         0       3  ...   NaN        S          Old\n",
              "568          569         0       3  ...   NaN        C          Old\n",
              "368          369         1       3  ...   NaN        Q          Old\n",
              "234          235         0       2  ...   NaN        S        Adult\n",
              "\n",
              "[5 rows x 13 columns]"
            ]
          },
          "metadata": {
            "tags": []
          },
          "execution_count": 44
        }
      ]
    },
    {
      "cell_type": "markdown",
      "metadata": {
        "id": "LqDHsHM4Li69",
        "colab_type": "text"
      },
      "source": [
        "### Drop a column"
      ]
    },
    {
      "cell_type": "code",
      "metadata": {
        "id": "65t0feBtLi7K",
        "colab_type": "code",
        "colab": {}
      },
      "source": [
        "drop_age = pdp.ColDrop('Ticket')"
      ],
      "execution_count": 0,
      "outputs": []
    },
    {
      "cell_type": "code",
      "metadata": {
        "id": "oKHIgm2pLi7y",
        "colab_type": "code",
        "colab": {}
      },
      "source": [
        "df2 = drop_age(df)"
      ],
      "execution_count": 0,
      "outputs": []
    },
    {
      "cell_type": "code",
      "metadata": {
        "id": "lGSsSZ4gLi8I",
        "colab_type": "code",
        "outputId": "c70a263d-465b-49be-ab92-8639b6ab5012",
        "colab": {
          "base_uri": "https://localhost:8080/",
          "height": 206
        }
      },
      "source": [
        "round(df2.sample(5))"
      ],
      "execution_count": 0,
      "outputs": [
        {
          "output_type": "execute_result",
          "data": {
            "text/html": [
              "<div>\n",
              "<style scoped>\n",
              "    .dataframe tbody tr th:only-of-type {\n",
              "        vertical-align: middle;\n",
              "    }\n",
              "\n",
              "    .dataframe tbody tr th {\n",
              "        vertical-align: top;\n",
              "    }\n",
              "\n",
              "    .dataframe thead th {\n",
              "        text-align: right;\n",
              "    }\n",
              "</style>\n",
              "<table border=\"1\" class=\"dataframe\">\n",
              "  <thead>\n",
              "    <tr style=\"text-align: right;\">\n",
              "      <th></th>\n",
              "      <th>PassengerId</th>\n",
              "      <th>Survived</th>\n",
              "      <th>Pclass</th>\n",
              "      <th>Name</th>\n",
              "      <th>Sex</th>\n",
              "      <th>Age</th>\n",
              "      <th>SibSp</th>\n",
              "      <th>Parch</th>\n",
              "      <th>Fare</th>\n",
              "      <th>Cabin</th>\n",
              "      <th>Embarked</th>\n",
              "      <th>Age_bracket</th>\n",
              "    </tr>\n",
              "  </thead>\n",
              "  <tbody>\n",
              "    <tr>\n",
              "      <th>402</th>\n",
              "      <td>403</td>\n",
              "      <td>0</td>\n",
              "      <td>3</td>\n",
              "      <td>Jussila, Miss. Mari Aina</td>\n",
              "      <td>female</td>\n",
              "      <td>21.0</td>\n",
              "      <td>1</td>\n",
              "      <td>0</td>\n",
              "      <td>10.0</td>\n",
              "      <td>NaN</td>\n",
              "      <td>S</td>\n",
              "      <td>Adult</td>\n",
              "    </tr>\n",
              "    <tr>\n",
              "      <th>777</th>\n",
              "      <td>778</td>\n",
              "      <td>1</td>\n",
              "      <td>3</td>\n",
              "      <td>Emanuel, Miss. Virginia Ethel</td>\n",
              "      <td>female</td>\n",
              "      <td>5.0</td>\n",
              "      <td>0</td>\n",
              "      <td>0</td>\n",
              "      <td>12.0</td>\n",
              "      <td>NaN</td>\n",
              "      <td>S</td>\n",
              "      <td>Child</td>\n",
              "    </tr>\n",
              "    <tr>\n",
              "      <th>807</th>\n",
              "      <td>808</td>\n",
              "      <td>0</td>\n",
              "      <td>3</td>\n",
              "      <td>Pettersson, Miss. Ellen Natalia</td>\n",
              "      <td>female</td>\n",
              "      <td>18.0</td>\n",
              "      <td>0</td>\n",
              "      <td>0</td>\n",
              "      <td>8.0</td>\n",
              "      <td>NaN</td>\n",
              "      <td>S</td>\n",
              "      <td>Child</td>\n",
              "    </tr>\n",
              "    <tr>\n",
              "      <th>262</th>\n",
              "      <td>263</td>\n",
              "      <td>0</td>\n",
              "      <td>1</td>\n",
              "      <td>Taussig, Mr. Emil</td>\n",
              "      <td>male</td>\n",
              "      <td>52.0</td>\n",
              "      <td>1</td>\n",
              "      <td>1</td>\n",
              "      <td>80.0</td>\n",
              "      <td>E67</td>\n",
              "      <td>S</td>\n",
              "      <td>Adult</td>\n",
              "    </tr>\n",
              "    <tr>\n",
              "      <th>611</th>\n",
              "      <td>612</td>\n",
              "      <td>0</td>\n",
              "      <td>3</td>\n",
              "      <td>Jardin, Mr. Jose Neto</td>\n",
              "      <td>male</td>\n",
              "      <td>NaN</td>\n",
              "      <td>0</td>\n",
              "      <td>0</td>\n",
              "      <td>7.0</td>\n",
              "      <td>NaN</td>\n",
              "      <td>S</td>\n",
              "      <td>Old</td>\n",
              "    </tr>\n",
              "  </tbody>\n",
              "</table>\n",
              "</div>"
            ],
            "text/plain": [
              "     PassengerId  Survived  Pclass  ... Cabin Embarked  Age_bracket\n",
              "402          403         0       3  ...   NaN        S        Adult\n",
              "777          778         1       3  ...   NaN        S        Child\n",
              "807          808         0       3  ...   NaN        S        Child\n",
              "262          263         0       1  ...   E67        S        Adult\n",
              "611          612         0       3  ...   NaN        S          Old\n",
              "\n",
              "[5 rows x 12 columns]"
            ]
          },
          "metadata": {
            "tags": []
          },
          "execution_count": 48
        }
      ]
    },
    {
      "cell_type": "markdown",
      "metadata": {
        "id": "YgeOEYshLi8l",
        "colab_type": "text"
      },
      "source": [
        "### Chaining stages by adding them up"
      ]
    },
    {
      "cell_type": "code",
      "metadata": {
        "id": "AcfI_TTRLi8s",
        "colab_type": "code",
        "colab": {}
      },
      "source": [
        "pipeline = pdp.ColDrop('Ticket')\n",
        "pipeline+= pdp.OneHotEncode('Age_bracket')"
      ],
      "execution_count": 0,
      "outputs": []
    },
    {
      "cell_type": "code",
      "metadata": {
        "id": "pZSED0M7Li9D",
        "colab_type": "code",
        "colab": {}
      },
      "source": [
        "df3 = pipeline(df)"
      ],
      "execution_count": 0,
      "outputs": []
    },
    {
      "cell_type": "code",
      "metadata": {
        "id": "c9N0I5H6Li9b",
        "colab_type": "code",
        "outputId": "41334385-17dd-401c-e019-3151bb2d1fc8",
        "colab": {
          "base_uri": "https://localhost:8080/",
          "height": 258
        }
      },
      "source": [
        "round(df3.sample(5))"
      ],
      "execution_count": 0,
      "outputs": [
        {
          "output_type": "execute_result",
          "data": {
            "text/html": [
              "<div>\n",
              "<style scoped>\n",
              "    .dataframe tbody tr th:only-of-type {\n",
              "        vertical-align: middle;\n",
              "    }\n",
              "\n",
              "    .dataframe tbody tr th {\n",
              "        vertical-align: top;\n",
              "    }\n",
              "\n",
              "    .dataframe thead th {\n",
              "        text-align: right;\n",
              "    }\n",
              "</style>\n",
              "<table border=\"1\" class=\"dataframe\">\n",
              "  <thead>\n",
              "    <tr style=\"text-align: right;\">\n",
              "      <th></th>\n",
              "      <th>PassengerId</th>\n",
              "      <th>Survived</th>\n",
              "      <th>Pclass</th>\n",
              "      <th>Name</th>\n",
              "      <th>Sex</th>\n",
              "      <th>Age</th>\n",
              "      <th>SibSp</th>\n",
              "      <th>Parch</th>\n",
              "      <th>Fare</th>\n",
              "      <th>Cabin</th>\n",
              "      <th>Embarked</th>\n",
              "      <th>Age_bracket_Child</th>\n",
              "      <th>Age_bracket_Old</th>\n",
              "    </tr>\n",
              "  </thead>\n",
              "  <tbody>\n",
              "    <tr>\n",
              "      <th>197</th>\n",
              "      <td>198</td>\n",
              "      <td>0</td>\n",
              "      <td>3</td>\n",
              "      <td>Olsen, Mr. Karl Siegwart Andreas</td>\n",
              "      <td>male</td>\n",
              "      <td>42.0</td>\n",
              "      <td>0</td>\n",
              "      <td>1</td>\n",
              "      <td>8.0</td>\n",
              "      <td>NaN</td>\n",
              "      <td>S</td>\n",
              "      <td>0</td>\n",
              "      <td>0</td>\n",
              "    </tr>\n",
              "    <tr>\n",
              "      <th>432</th>\n",
              "      <td>433</td>\n",
              "      <td>1</td>\n",
              "      <td>2</td>\n",
              "      <td>Louch, Mrs. Charles Alexander (Alice Adelaide ...</td>\n",
              "      <td>female</td>\n",
              "      <td>42.0</td>\n",
              "      <td>1</td>\n",
              "      <td>0</td>\n",
              "      <td>26.0</td>\n",
              "      <td>NaN</td>\n",
              "      <td>S</td>\n",
              "      <td>0</td>\n",
              "      <td>0</td>\n",
              "    </tr>\n",
              "    <tr>\n",
              "      <th>759</th>\n",
              "      <td>760</td>\n",
              "      <td>1</td>\n",
              "      <td>1</td>\n",
              "      <td>Rothes, the Countess. of (Lucy Noel Martha Dye...</td>\n",
              "      <td>female</td>\n",
              "      <td>33.0</td>\n",
              "      <td>0</td>\n",
              "      <td>0</td>\n",
              "      <td>86.0</td>\n",
              "      <td>B77</td>\n",
              "      <td>S</td>\n",
              "      <td>0</td>\n",
              "      <td>0</td>\n",
              "    </tr>\n",
              "    <tr>\n",
              "      <th>774</th>\n",
              "      <td>775</td>\n",
              "      <td>1</td>\n",
              "      <td>2</td>\n",
              "      <td>Hocking, Mrs. Elizabeth (Eliza Needs)</td>\n",
              "      <td>female</td>\n",
              "      <td>54.0</td>\n",
              "      <td>1</td>\n",
              "      <td>3</td>\n",
              "      <td>23.0</td>\n",
              "      <td>NaN</td>\n",
              "      <td>S</td>\n",
              "      <td>0</td>\n",
              "      <td>0</td>\n",
              "    </tr>\n",
              "    <tr>\n",
              "      <th>336</th>\n",
              "      <td>337</td>\n",
              "      <td>0</td>\n",
              "      <td>1</td>\n",
              "      <td>Pears, Mr. Thomas Clinton</td>\n",
              "      <td>male</td>\n",
              "      <td>29.0</td>\n",
              "      <td>1</td>\n",
              "      <td>0</td>\n",
              "      <td>67.0</td>\n",
              "      <td>C2</td>\n",
              "      <td>S</td>\n",
              "      <td>0</td>\n",
              "      <td>0</td>\n",
              "    </tr>\n",
              "  </tbody>\n",
              "</table>\n",
              "</div>"
            ],
            "text/plain": [
              "     PassengerId  Survived  Pclass  ... Embarked Age_bracket_Child  Age_bracket_Old\n",
              "197          198         0       3  ...        S                 0                0\n",
              "432          433         1       2  ...        S                 0                0\n",
              "759          760         1       1  ...        S                 0                0\n",
              "774          775         1       2  ...        S                 0                0\n",
              "336          337         0       1  ...        S                 0                0\n",
              "\n",
              "[5 rows x 13 columns]"
            ]
          },
          "metadata": {
            "tags": []
          },
          "execution_count": 79
        }
      ]
    },
    {
      "cell_type": "code",
      "metadata": {
        "id": "yeqe2Rr0yN-3",
        "colab_type": "code",
        "outputId": "79dfcabf-29f6-4146-cca5-98f39bc94634",
        "colab": {
          "base_uri": "https://localhost:8080/",
          "height": 173
        }
      },
      "source": [
        "df['Fare'].describe()"
      ],
      "execution_count": 0,
      "outputs": [
        {
          "output_type": "execute_result",
          "data": {
            "text/plain": [
              "count    891.000000\n",
              "mean      32.204208\n",
              "std       49.693429\n",
              "min        0.000000\n",
              "25%        7.910400\n",
              "50%       14.454200\n",
              "75%       31.000000\n",
              "max      512.329200\n",
              "Name: Fare, dtype: float64"
            ]
          },
          "metadata": {
            "tags": []
          },
          "execution_count": 80
        }
      ]
    },
    {
      "cell_type": "code",
      "metadata": {
        "id": "dlINJYaxLi9u",
        "colab_type": "code",
        "colab": {}
      },
      "source": [
        "def fare_range(x):\n",
        "    if x>7:\n",
        "        return 'keep'\n",
        "    else:\n",
        "        return 'drop'"
      ],
      "execution_count": 0,
      "outputs": []
    },
    {
      "cell_type": "code",
      "metadata": {
        "id": "jBKYRVcZLi-G",
        "colab_type": "code",
        "colab": {}
      },
      "source": [
        "pipeline = pdp.ColDrop('Ticket')\n",
        "pipeline+= pdp.OneHotEncode('Age_bracket')\n",
        "pipeline+=pdp.ApplyByCols('Fare',fare_range,'Fare_range',drop=False)"
      ],
      "execution_count": 0,
      "outputs": []
    },
    {
      "cell_type": "code",
      "metadata": {
        "id": "Elf6ZWGiLi-Z",
        "colab_type": "code",
        "colab": {}
      },
      "source": [
        "df4 = pipeline(df)"
      ],
      "execution_count": 0,
      "outputs": []
    },
    {
      "cell_type": "code",
      "metadata": {
        "id": "JMDvwO_eLi-0",
        "colab_type": "code",
        "outputId": "da79e5dd-6614-4f0a-9b93-6b5dffad2d82",
        "colab": {
          "base_uri": "https://localhost:8080/",
          "height": 34
        }
      },
      "source": [
        "df4.shape"
      ],
      "execution_count": 0,
      "outputs": [
        {
          "output_type": "execute_result",
          "data": {
            "text/plain": [
              "(891, 14)"
            ]
          },
          "metadata": {
            "tags": []
          },
          "execution_count": 84
        }
      ]
    },
    {
      "cell_type": "code",
      "metadata": {
        "id": "Pjujh3D3Li_G",
        "colab_type": "code",
        "outputId": "aef59c80-d9cf-489c-8553-2b3d179d36a9",
        "colab": {
          "base_uri": "https://localhost:8080/",
          "height": 241
        }
      },
      "source": [
        "round(df4.sample(5),2)"
      ],
      "execution_count": 0,
      "outputs": [
        {
          "output_type": "execute_result",
          "data": {
            "text/html": [
              "<div>\n",
              "<style scoped>\n",
              "    .dataframe tbody tr th:only-of-type {\n",
              "        vertical-align: middle;\n",
              "    }\n",
              "\n",
              "    .dataframe tbody tr th {\n",
              "        vertical-align: top;\n",
              "    }\n",
              "\n",
              "    .dataframe thead th {\n",
              "        text-align: right;\n",
              "    }\n",
              "</style>\n",
              "<table border=\"1\" class=\"dataframe\">\n",
              "  <thead>\n",
              "    <tr style=\"text-align: right;\">\n",
              "      <th></th>\n",
              "      <th>PassengerId</th>\n",
              "      <th>Survived</th>\n",
              "      <th>Pclass</th>\n",
              "      <th>Name</th>\n",
              "      <th>Sex</th>\n",
              "      <th>Age</th>\n",
              "      <th>SibSp</th>\n",
              "      <th>Parch</th>\n",
              "      <th>Fare</th>\n",
              "      <th>Fare_range</th>\n",
              "      <th>Cabin</th>\n",
              "      <th>Embarked</th>\n",
              "      <th>Age_bracket_Child</th>\n",
              "      <th>Age_bracket_Old</th>\n",
              "    </tr>\n",
              "  </thead>\n",
              "  <tbody>\n",
              "    <tr>\n",
              "      <th>784</th>\n",
              "      <td>785</td>\n",
              "      <td>0</td>\n",
              "      <td>3</td>\n",
              "      <td>Ali, Mr. William</td>\n",
              "      <td>male</td>\n",
              "      <td>25.0</td>\n",
              "      <td>0</td>\n",
              "      <td>0</td>\n",
              "      <td>7.05</td>\n",
              "      <td>keep</td>\n",
              "      <td>NaN</td>\n",
              "      <td>S</td>\n",
              "      <td>0</td>\n",
              "      <td>0</td>\n",
              "    </tr>\n",
              "    <tr>\n",
              "      <th>711</th>\n",
              "      <td>712</td>\n",
              "      <td>0</td>\n",
              "      <td>1</td>\n",
              "      <td>Klaber, Mr. Herman</td>\n",
              "      <td>male</td>\n",
              "      <td>NaN</td>\n",
              "      <td>0</td>\n",
              "      <td>0</td>\n",
              "      <td>26.55</td>\n",
              "      <td>keep</td>\n",
              "      <td>C124</td>\n",
              "      <td>S</td>\n",
              "      <td>0</td>\n",
              "      <td>1</td>\n",
              "    </tr>\n",
              "    <tr>\n",
              "      <th>836</th>\n",
              "      <td>837</td>\n",
              "      <td>0</td>\n",
              "      <td>3</td>\n",
              "      <td>Pasic, Mr. Jakob</td>\n",
              "      <td>male</td>\n",
              "      <td>21.0</td>\n",
              "      <td>0</td>\n",
              "      <td>0</td>\n",
              "      <td>8.66</td>\n",
              "      <td>keep</td>\n",
              "      <td>NaN</td>\n",
              "      <td>S</td>\n",
              "      <td>0</td>\n",
              "      <td>0</td>\n",
              "    </tr>\n",
              "    <tr>\n",
              "      <th>340</th>\n",
              "      <td>341</td>\n",
              "      <td>1</td>\n",
              "      <td>2</td>\n",
              "      <td>Navratil, Master. Edmond Roger</td>\n",
              "      <td>male</td>\n",
              "      <td>2.0</td>\n",
              "      <td>1</td>\n",
              "      <td>1</td>\n",
              "      <td>26.00</td>\n",
              "      <td>keep</td>\n",
              "      <td>F2</td>\n",
              "      <td>S</td>\n",
              "      <td>1</td>\n",
              "      <td>0</td>\n",
              "    </tr>\n",
              "    <tr>\n",
              "      <th>603</th>\n",
              "      <td>604</td>\n",
              "      <td>0</td>\n",
              "      <td>3</td>\n",
              "      <td>Torber, Mr. Ernst William</td>\n",
              "      <td>male</td>\n",
              "      <td>44.0</td>\n",
              "      <td>0</td>\n",
              "      <td>0</td>\n",
              "      <td>8.05</td>\n",
              "      <td>keep</td>\n",
              "      <td>NaN</td>\n",
              "      <td>S</td>\n",
              "      <td>0</td>\n",
              "      <td>0</td>\n",
              "    </tr>\n",
              "  </tbody>\n",
              "</table>\n",
              "</div>"
            ],
            "text/plain": [
              "     PassengerId  Survived  Pclass  ... Embarked Age_bracket_Child  Age_bracket_Old\n",
              "784          785         0       3  ...        S                 0                0\n",
              "711          712         0       1  ...        S                 0                1\n",
              "836          837         0       3  ...        S                 0                0\n",
              "340          341         1       2  ...        S                 1                0\n",
              "603          604         0       3  ...        S                 0                0\n",
              "\n",
              "[5 rows x 14 columns]"
            ]
          },
          "metadata": {
            "tags": []
          },
          "execution_count": 85
        }
      ]
    },
    {
      "cell_type": "code",
      "metadata": {
        "id": "nQ2zDbLyBbp_",
        "colab_type": "code",
        "outputId": "4b093d6d-a84f-4568-f0eb-1f1fc6d5f9e7",
        "colab": {
          "base_uri": "https://localhost:8080/",
          "height": 34
        }
      },
      "source": [
        "df4.Fare_range.unique()"
      ],
      "execution_count": 0,
      "outputs": [
        {
          "output_type": "execute_result",
          "data": {
            "text/plain": [
              "array(['keep', 'drop'], dtype=object)"
            ]
          },
          "metadata": {
            "tags": []
          },
          "execution_count": 87
        }
      ]
    },
    {
      "cell_type": "code",
      "metadata": {
        "id": "daPa930nLi_a",
        "colab_type": "code",
        "colab": {}
      },
      "source": [
        "pipeline = pdp.ColDrop('Ticket')\n",
        "pipeline+= pdp.OneHotEncode('Age_bracket','Sex')\n",
        "pipeline+=pdp.ApplyByCols('Fare',fare_range,'Fare_range',drop=False)\n",
        "pipeline+=pdp.ValDrop(['drop'],'Fare_range')\n",
        "pipeline+= pdp.ColDrop(['Fare','Sex','Cabin'])"
      ],
      "execution_count": 0,
      "outputs": []
    },
    {
      "cell_type": "code",
      "metadata": {
        "id": "ETg0TQacLi_1",
        "colab_type": "code",
        "colab": {}
      },
      "source": [
        "df5 = pipeline(df)"
      ],
      "execution_count": 0,
      "outputs": []
    },
    {
      "cell_type": "code",
      "metadata": {
        "id": "HMTgAXIVLjAE",
        "colab_type": "code",
        "outputId": "c69c2e28-b3ca-4907-8219-57ecbec2ddee",
        "colab": {
          "base_uri": "https://localhost:8080/",
          "height": 243
        }
      },
      "source": [
        "df5.dtypes"
      ],
      "execution_count": 0,
      "outputs": [
        {
          "output_type": "execute_result",
          "data": {
            "text/plain": [
              "PassengerId            int64\n",
              "Survived               int64\n",
              "Pclass                 int64\n",
              "Name                  object\n",
              "Age                  float64\n",
              "SibSp                  int64\n",
              "Parch                  int64\n",
              "Fare_range            object\n",
              "Embarked              object\n",
              "Age_bracket_Adult      uint8\n",
              "Age_bracket_Child      uint8\n",
              "Age_bracket_Old        uint8\n",
              "dtype: object"
            ]
          },
          "metadata": {
            "tags": []
          },
          "execution_count": 104
        }
      ]
    },
    {
      "cell_type": "markdown",
      "metadata": {
        "id": "UACcqqm1LjAZ",
        "colab_type": "text"
      },
      "source": [
        "### Scikit-learn scaling"
      ]
    },
    {
      "cell_type": "code",
      "metadata": {
        "id": "4GeqmC_ALjAe",
        "colab_type": "code",
        "colab": {}
      },
      "source": [
        "pipeline_scale = pdp.Scale('StandardScaler',exclude_columns=['Name','Fare_range','Embarked'])"
      ],
      "execution_count": 0,
      "outputs": []
    },
    {
      "cell_type": "code",
      "metadata": {
        "id": "I4JMvtwNLjAt",
        "colab_type": "code",
        "colab": {}
      },
      "source": [
        "df6 = pipeline_scale(df5)"
      ],
      "execution_count": 0,
      "outputs": []
    },
    {
      "cell_type": "code",
      "metadata": {
        "id": "sk08201lLjBO",
        "colab_type": "code",
        "outputId": "eddd0647-fc0e-4102-d7ec-e1281fe4c504",
        "colab": {
          "base_uri": "https://localhost:8080/",
          "height": 276
        }
      },
      "source": [
        "round(df6.sample(5),3)"
      ],
      "execution_count": 0,
      "outputs": [
        {
          "output_type": "execute_result",
          "data": {
            "text/html": [
              "<div>\n",
              "<style scoped>\n",
              "    .dataframe tbody tr th:only-of-type {\n",
              "        vertical-align: middle;\n",
              "    }\n",
              "\n",
              "    .dataframe tbody tr th {\n",
              "        vertical-align: top;\n",
              "    }\n",
              "\n",
              "    .dataframe thead th {\n",
              "        text-align: right;\n",
              "    }\n",
              "</style>\n",
              "<table border=\"1\" class=\"dataframe\">\n",
              "  <thead>\n",
              "    <tr style=\"text-align: right;\">\n",
              "      <th></th>\n",
              "      <th>PassengerId</th>\n",
              "      <th>Survived</th>\n",
              "      <th>Pclass</th>\n",
              "      <th>Name</th>\n",
              "      <th>Age</th>\n",
              "      <th>SibSp</th>\n",
              "      <th>Parch</th>\n",
              "      <th>Fare_range</th>\n",
              "      <th>Embarked</th>\n",
              "      <th>Age_bracket_Adult</th>\n",
              "      <th>Age_bracket_Child</th>\n",
              "      <th>Age_bracket_Old</th>\n",
              "    </tr>\n",
              "  </thead>\n",
              "  <tbody>\n",
              "    <tr>\n",
              "      <th>543</th>\n",
              "      <td>0.390</td>\n",
              "      <td>1.240</td>\n",
              "      <td>-0.367</td>\n",
              "      <td>Beane, Mr. Edward</td>\n",
              "      <td>0.164</td>\n",
              "      <td>0.413</td>\n",
              "      <td>-0.483</td>\n",
              "      <td>keep</td>\n",
              "      <td>S</td>\n",
              "      <td>0.785</td>\n",
              "      <td>-0.434</td>\n",
              "      <td>-0.535</td>\n",
              "    </tr>\n",
              "    <tr>\n",
              "      <th>377</th>\n",
              "      <td>-0.255</td>\n",
              "      <td>-0.806</td>\n",
              "      <td>-1.563</td>\n",
              "      <td>Widener, Mr. Harry Elkins</td>\n",
              "      <td>-0.179</td>\n",
              "      <td>-0.483</td>\n",
              "      <td>1.969</td>\n",
              "      <td>keep</td>\n",
              "      <td>C</td>\n",
              "      <td>0.785</td>\n",
              "      <td>-0.434</td>\n",
              "      <td>-0.535</td>\n",
              "    </tr>\n",
              "    <tr>\n",
              "      <th>198</th>\n",
              "      <td>-0.951</td>\n",
              "      <td>1.240</td>\n",
              "      <td>0.829</td>\n",
              "      <td>Madigan, Miss. Margaret \"Maggie\"</td>\n",
              "      <td>NaN</td>\n",
              "      <td>-0.483</td>\n",
              "      <td>-0.483</td>\n",
              "      <td>keep</td>\n",
              "      <td>Q</td>\n",
              "      <td>-1.274</td>\n",
              "      <td>-0.434</td>\n",
              "      <td>1.869</td>\n",
              "    </tr>\n",
              "    <tr>\n",
              "      <th>652</th>\n",
              "      <td>0.814</td>\n",
              "      <td>-0.806</td>\n",
              "      <td>0.829</td>\n",
              "      <td>Kalvik, Mr. Johannes Halvorsen</td>\n",
              "      <td>-0.591</td>\n",
              "      <td>-0.483</td>\n",
              "      <td>-0.483</td>\n",
              "      <td>keep</td>\n",
              "      <td>S</td>\n",
              "      <td>0.785</td>\n",
              "      <td>-0.434</td>\n",
              "      <td>-0.535</td>\n",
              "    </tr>\n",
              "    <tr>\n",
              "      <th>112</th>\n",
              "      <td>-1.286</td>\n",
              "      <td>-0.806</td>\n",
              "      <td>0.829</td>\n",
              "      <td>Barton, Mr. David John</td>\n",
              "      <td>-0.522</td>\n",
              "      <td>-0.483</td>\n",
              "      <td>-0.483</td>\n",
              "      <td>keep</td>\n",
              "      <td>S</td>\n",
              "      <td>0.785</td>\n",
              "      <td>-0.434</td>\n",
              "      <td>-0.535</td>\n",
              "    </tr>\n",
              "  </tbody>\n",
              "</table>\n",
              "</div>"
            ],
            "text/plain": [
              "     PassengerId  Survived  ...  Age_bracket_Child Age_bracket_Old\n",
              "543        0.390     1.240  ...             -0.434          -0.535\n",
              "377       -0.255    -0.806  ...             -0.434          -0.535\n",
              "198       -0.951     1.240  ...             -0.434           1.869\n",
              "652        0.814    -0.806  ...             -0.434          -0.535\n",
              "112       -1.286    -0.806  ...             -0.434          -0.535\n",
              "\n",
              "[5 rows x 12 columns]"
            ]
          },
          "metadata": {
            "tags": []
          },
          "execution_count": 107
        }
      ]
    },
    {
      "cell_type": "markdown",
      "metadata": {
        "id": "8F_tfSDXLjBf",
        "colab_type": "text"
      },
      "source": [
        "### NLTK stages"
      ]
    },
    {
      "cell_type": "code",
      "metadata": {
        "id": "e3eX32kRLjBn",
        "colab_type": "code",
        "colab": {}
      },
      "source": [
        "pipeline_tokenize=pdp.TokenizeWords('Name')"
      ],
      "execution_count": 0,
      "outputs": []
    },
    {
      "cell_type": "code",
      "metadata": {
        "id": "h4StscZLLjB8",
        "colab_type": "code",
        "colab": {}
      },
      "source": [
        "df7 = pipeline_tokenize(df6)"
      ],
      "execution_count": 0,
      "outputs": []
    },
    {
      "cell_type": "code",
      "metadata": {
        "id": "Xi9j22SFLjCP",
        "colab_type": "code",
        "outputId": "8576b15d-b28b-48a5-aea3-4056007f056e",
        "colab": {
          "base_uri": "https://localhost:8080/",
          "height": 504
        }
      },
      "source": [
        "df7.sample(5)"
      ],
      "execution_count": 0,
      "outputs": [
        {
          "output_type": "execute_result",
          "data": {
            "text/html": [
              "<div>\n",
              "<style scoped>\n",
              "    .dataframe tbody tr th:only-of-type {\n",
              "        vertical-align: middle;\n",
              "    }\n",
              "\n",
              "    .dataframe tbody tr th {\n",
              "        vertical-align: top;\n",
              "    }\n",
              "\n",
              "    .dataframe thead th {\n",
              "        text-align: right;\n",
              "    }\n",
              "</style>\n",
              "<table border=\"1\" class=\"dataframe\">\n",
              "  <thead>\n",
              "    <tr style=\"text-align: right;\">\n",
              "      <th></th>\n",
              "      <th>PassengerId</th>\n",
              "      <th>Survived</th>\n",
              "      <th>Pclass</th>\n",
              "      <th>Name</th>\n",
              "      <th>Age</th>\n",
              "      <th>SibSp</th>\n",
              "      <th>Parch</th>\n",
              "      <th>Fare_range</th>\n",
              "      <th>Embarked</th>\n",
              "      <th>Age_bracket_Adult</th>\n",
              "      <th>Age_bracket_Child</th>\n",
              "      <th>Age_bracket_Old</th>\n",
              "    </tr>\n",
              "  </thead>\n",
              "  <tbody>\n",
              "    <tr>\n",
              "      <th>328</th>\n",
              "      <td>-0.445711</td>\n",
              "      <td>1.240256</td>\n",
              "      <td>0.828536</td>\n",
              "      <td>[Goldsmith, ,, Mrs., Frank, John, (, Emily, Al...</td>\n",
              "      <td>0.095602</td>\n",
              "      <td>0.413318</td>\n",
              "      <td>0.743057</td>\n",
              "      <td>keep</td>\n",
              "      <td>S</td>\n",
              "      <td>0.784923</td>\n",
              "      <td>-0.434402</td>\n",
              "      <td>-0.534921</td>\n",
              "    </tr>\n",
              "    <tr>\n",
              "      <th>848</th>\n",
              "      <td>1.576217</td>\n",
              "      <td>-0.806285</td>\n",
              "      <td>-0.367161</td>\n",
              "      <td>[Harper, ,, Rev, ., John]</td>\n",
              "      <td>-0.110331</td>\n",
              "      <td>-0.482897</td>\n",
              "      <td>0.743057</td>\n",
              "      <td>keep</td>\n",
              "      <td>S</td>\n",
              "      <td>0.784923</td>\n",
              "      <td>-0.434402</td>\n",
              "      <td>-0.534921</td>\n",
              "    </tr>\n",
              "    <tr>\n",
              "      <th>304</th>\n",
              "      <td>-0.539030</td>\n",
              "      <td>-0.806285</td>\n",
              "      <td>0.828536</td>\n",
              "      <td>[Williams, ,, Mr., Howard, Hugh, ``, Harry, '']</td>\n",
              "      <td>NaN</td>\n",
              "      <td>-0.482897</td>\n",
              "      <td>-0.483058</td>\n",
              "      <td>keep</td>\n",
              "      <td>S</td>\n",
              "      <td>-1.274010</td>\n",
              "      <td>-0.434402</td>\n",
              "      <td>1.869436</td>\n",
              "    </tr>\n",
              "    <tr>\n",
              "      <th>783</th>\n",
              "      <td>1.323476</td>\n",
              "      <td>-0.806285</td>\n",
              "      <td>0.828536</td>\n",
              "      <td>[Johnston, ,, Mr., Andrew, G]</td>\n",
              "      <td>NaN</td>\n",
              "      <td>0.413318</td>\n",
              "      <td>1.969171</td>\n",
              "      <td>keep</td>\n",
              "      <td>S</td>\n",
              "      <td>-1.274010</td>\n",
              "      <td>-0.434402</td>\n",
              "      <td>1.869436</td>\n",
              "    </tr>\n",
              "    <tr>\n",
              "      <th>885</th>\n",
              "      <td>1.720084</td>\n",
              "      <td>-0.806285</td>\n",
              "      <td>0.828536</td>\n",
              "      <td>[Rice, ,, Mrs., William, (, Margaret, Norton, )]</td>\n",
              "      <td>0.644754</td>\n",
              "      <td>-0.482897</td>\n",
              "      <td>5.647515</td>\n",
              "      <td>keep</td>\n",
              "      <td>Q</td>\n",
              "      <td>0.784923</td>\n",
              "      <td>-0.434402</td>\n",
              "      <td>-0.534921</td>\n",
              "    </tr>\n",
              "  </tbody>\n",
              "</table>\n",
              "</div>"
            ],
            "text/plain": [
              "     PassengerId  Survived  ...  Age_bracket_Child Age_bracket_Old\n",
              "328    -0.445711  1.240256  ...          -0.434402       -0.534921\n",
              "848     1.576217 -0.806285  ...          -0.434402       -0.534921\n",
              "304    -0.539030 -0.806285  ...          -0.434402        1.869436\n",
              "783     1.323476 -0.806285  ...          -0.434402        1.869436\n",
              "885     1.720084 -0.806285  ...          -0.434402       -0.534921\n",
              "\n",
              "[5 rows x 12 columns]"
            ]
          },
          "metadata": {
            "tags": []
          },
          "execution_count": 110
        }
      ]
    },
    {
      "cell_type": "code",
      "metadata": {
        "id": "hEgOF_nOLjCd",
        "colab_type": "code",
        "colab": {}
      },
      "source": [
        "def extract_state(token):\n",
        "    return str(token[-3:])"
      ],
      "execution_count": 0,
      "outputs": []
    },
    {
      "cell_type": "code",
      "metadata": {
        "id": "bJrGFLybLjCu",
        "colab_type": "code",
        "colab": {}
      },
      "source": [
        "pipeline_state = pdp.ApplyByCols('Name',extract_state,result_columns='Name_token')"
      ],
      "execution_count": 0,
      "outputs": []
    },
    {
      "cell_type": "code",
      "metadata": {
        "id": "A4H43sl3LjC8",
        "colab_type": "code",
        "colab": {}
      },
      "source": [
        "df8=pipeline_state(df7)"
      ],
      "execution_count": 0,
      "outputs": []
    },
    {
      "cell_type": "code",
      "metadata": {
        "id": "oM0AfgAqLjDN",
        "colab_type": "code",
        "outputId": "3abd2a40-b561-4778-b68b-7151fe46e9e8",
        "colab": {
          "base_uri": "https://localhost:8080/",
          "height": 241
        }
      },
      "source": [
        "round(df8.sample(5),3)"
      ],
      "execution_count": 0,
      "outputs": [
        {
          "output_type": "execute_result",
          "data": {
            "text/html": [
              "<div>\n",
              "<style scoped>\n",
              "    .dataframe tbody tr th:only-of-type {\n",
              "        vertical-align: middle;\n",
              "    }\n",
              "\n",
              "    .dataframe tbody tr th {\n",
              "        vertical-align: top;\n",
              "    }\n",
              "\n",
              "    .dataframe thead th {\n",
              "        text-align: right;\n",
              "    }\n",
              "</style>\n",
              "<table border=\"1\" class=\"dataframe\">\n",
              "  <thead>\n",
              "    <tr style=\"text-align: right;\">\n",
              "      <th></th>\n",
              "      <th>PassengerId</th>\n",
              "      <th>Survived</th>\n",
              "      <th>Pclass</th>\n",
              "      <th>Name_token</th>\n",
              "      <th>Age</th>\n",
              "      <th>SibSp</th>\n",
              "      <th>Parch</th>\n",
              "      <th>Fare_range</th>\n",
              "      <th>Embarked</th>\n",
              "      <th>Age_bracket_Adult</th>\n",
              "      <th>Age_bracket_Child</th>\n",
              "      <th>Age_bracket_Old</th>\n",
              "    </tr>\n",
              "  </thead>\n",
              "  <tbody>\n",
              "    <tr>\n",
              "      <th>182</th>\n",
              "      <td>-1.013</td>\n",
              "      <td>-0.806</td>\n",
              "      <td>0.829</td>\n",
              "      <td>['Clarence', 'Gustaf', 'Hugo']</td>\n",
              "      <td>-1.415</td>\n",
              "      <td>3.102</td>\n",
              "      <td>1.969</td>\n",
              "      <td>keep</td>\n",
              "      <td>S</td>\n",
              "      <td>-1.274</td>\n",
              "      <td>2.302</td>\n",
              "      <td>-0.535</td>\n",
              "    </tr>\n",
              "    <tr>\n",
              "      <th>316</th>\n",
              "      <td>-0.492</td>\n",
              "      <td>1.240</td>\n",
              "      <td>-0.367</td>\n",
              "      <td>['Miriam', 'Sternin', ')']</td>\n",
              "      <td>-0.385</td>\n",
              "      <td>0.413</td>\n",
              "      <td>-0.483</td>\n",
              "      <td>keep</td>\n",
              "      <td>S</td>\n",
              "      <td>0.785</td>\n",
              "      <td>-0.434</td>\n",
              "      <td>-0.535</td>\n",
              "    </tr>\n",
              "    <tr>\n",
              "      <th>797</th>\n",
              "      <td>1.378</td>\n",
              "      <td>1.240</td>\n",
              "      <td>0.829</td>\n",
              "      <td>[',', 'Mrs.', 'Mara']</td>\n",
              "      <td>0.096</td>\n",
              "      <td>-0.483</td>\n",
              "      <td>-0.483</td>\n",
              "      <td>keep</td>\n",
              "      <td>S</td>\n",
              "      <td>0.785</td>\n",
              "      <td>-0.434</td>\n",
              "      <td>-0.535</td>\n",
              "    </tr>\n",
              "    <tr>\n",
              "      <th>303</th>\n",
              "      <td>-0.543</td>\n",
              "      <td>1.240</td>\n",
              "      <td>-0.367</td>\n",
              "      <td>['.', 'Nora', 'A']</td>\n",
              "      <td>NaN</td>\n",
              "      <td>-0.483</td>\n",
              "      <td>-0.483</td>\n",
              "      <td>keep</td>\n",
              "      <td>Q</td>\n",
              "      <td>-1.274</td>\n",
              "      <td>-0.434</td>\n",
              "      <td>1.869</td>\n",
              "    </tr>\n",
              "    <tr>\n",
              "      <th>354</th>\n",
              "      <td>-0.345</td>\n",
              "      <td>-0.806</td>\n",
              "      <td>0.829</td>\n",
              "      <td>[',', 'Mr.', 'Wazli']</td>\n",
              "      <td>NaN</td>\n",
              "      <td>-0.483</td>\n",
              "      <td>-0.483</td>\n",
              "      <td>keep</td>\n",
              "      <td>C</td>\n",
              "      <td>-1.274</td>\n",
              "      <td>-0.434</td>\n",
              "      <td>1.869</td>\n",
              "    </tr>\n",
              "  </tbody>\n",
              "</table>\n",
              "</div>"
            ],
            "text/plain": [
              "     PassengerId  Survived  ...  Age_bracket_Child Age_bracket_Old\n",
              "182       -1.013    -0.806  ...              2.302          -0.535\n",
              "316       -0.492     1.240  ...             -0.434          -0.535\n",
              "797        1.378     1.240  ...             -0.434          -0.535\n",
              "303       -0.543     1.240  ...             -0.434           1.869\n",
              "354       -0.345    -0.806  ...             -0.434           1.869\n",
              "\n",
              "[5 rows x 12 columns]"
            ]
          },
          "metadata": {
            "tags": []
          },
          "execution_count": 122
        }
      ]
    },
    {
      "cell_type": "code",
      "metadata": {
        "id": "kNGspKzAEiBq",
        "colab_type": "code",
        "colab": {}
      },
      "source": [
        ""
      ],
      "execution_count": 0,
      "outputs": []
    }
  ]
}